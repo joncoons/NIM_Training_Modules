{
 "cells": [
  {
   "cell_type": "markdown",
   "metadata": {},
   "source": [
    "## Deploying Llama3-8b-instruct using Nvidia NIM"
   ]
  },
  {
   "cell_type": "code",
   "execution_count": null,
   "metadata": {},
   "outputs": [],
   "source": [
    "# Download Nvidia CLI tool\n",
    "\n",
    "https://org.ngc.nvidia.com/setup/installers/cli\n",
    "\n",
    "\n",
    "# CLI Documentation\n",
    "\n",
    "https://docs.ngc.nvidia.com/cli/index.html\n",
    "\n",
    "\n",
    "# Nvidia API Key - Sign up for Developer account at ngc.nvidia.com"
   ]
  },
  {
   "cell_type": "code",
   "execution_count": null,
   "metadata": {},
   "outputs": [],
   "source": [
    "# Execute on local CLI\n",
    "\n",
    "export CONTAINER_NAME=\"meta-llama3-8b-instruct\"\n",
    "export IMG_NAME=\"nvcr.io/nim/meta/llama3-8b-instruct:1.0.0\"\n",
    "export NGC_API_KEY=\"<your api key>\"\n",
    "export LOCAL_NIM_CACHE=~/.cache/nim\n",
    "mkdir -p \"$LOCAL_NIM_CACHE\"\n",
    "\n",
    "# Start the LLM NIM\n",
    "docker run -d --rm --name=$CONTAINER_NAME \\\n",
    "  --gpus \"device=1\" \\\n",
    "  -e NGC_API_KEY \\\n",
    "  -v \"$LOCAL_NIM_CACHE:/opt/nim/.cache\" \\\n",
    "  -u $(id -u) \\\n",
    "  -p 48000:8000 \\\n",
    "  $IMG_NAME\n",
    "  \n",
    "# run on CLI\n",
    "  \n",
    "nvidia-smi"
   ]
  },
  {
   "cell_type": "markdown",
   "metadata": {},
   "source": [
    "## Conversation with Llama3-8b-instruct using LangChain "
   ]
  },
  {
   "cell_type": "code",
   "execution_count": null,
   "metadata": {},
   "outputs": [],
   "source": [
    "!pip install langchain langchain-openai transformers pandas llmsherpa"
   ]
  },
  {
   "cell_type": "code",
   "execution_count": 1,
   "metadata": {},
   "outputs": [
    {
     "name": "stderr",
     "output_type": "stream",
     "text": [
      "None of PyTorch, TensorFlow >= 2.0, or Flax have been found. Models won't be available and only tokenizers, configuration and file/data utilities can be used.\n"
     ]
    }
   ],
   "source": [
    "import os\n",
    "import json\n",
    "from langchain.callbacks import streaming_stdout\n",
    "from langchain.chains import ConversationChain\n",
    "from langchain.memory import ConversationBufferMemory\n",
    "from langchain_openai import ChatOpenAI\n",
    "from langchain.prompts import PromptTemplate\n",
    "from transformers import AutoTokenizer"
   ]
  },
  {
   "cell_type": "code",
   "execution_count": 2,
   "metadata": {},
   "outputs": [
    {
     "name": "stderr",
     "output_type": "stream",
     "text": [
      "Special tokens have been added in the vocabulary, make sure the associated word embeddings are fine-tuned or trained.\n"
     ]
    }
   ],
   "source": [
    "tokenizer_llama3 = AutoTokenizer.from_pretrained('/home/joncoons/code_repo/LLM_Demos/NIM_CUDA_X_QA_public_website/NIM_Assets/base_models/Meta-Llama-3-8B-Instruct')\n",
    "\n",
    "def token_tracker(chain):\n",
    "    tokens_consumed = len(tokenizer_llama3.encode(chain.memory.buffer))\n",
    "    return tokens_consumed"
   ]
  },
  {
   "cell_type": "code",
   "execution_count": 3,
   "metadata": {},
   "outputs": [],
   "source": [
    "callbacks = [streaming_stdout.StreamingStdOutCallbackHandler()]\n",
    "llm = ChatOpenAI(\n",
    "    openai_api_base = \"http://0.0.0.0:48000/v1\",\n",
    "    openai_api_key = \"local\",\n",
    "    model_name = \"meta/llama3-8b-instruct\",\n",
    "    temperature=0,\n",
    "    max_tokens=2048,\n",
    "    n=1,\n",
    "    streaming=True,\n",
    "    callbacks=callbacks,\n",
    "    )\n",
    "conversation = ConversationChain(llm=llm)"
   ]
  },
  {
   "cell_type": "code",
   "execution_count": 4,
   "metadata": {},
   "outputs": [
    {
     "name": "stdout",
     "output_type": "stream",
     "text": [
      "The following is a friendly conversation between a human and an AI. The AI is talkative and provides lots of specific details from its context. If the AI does not know the answer to a question, it truthfully says it does not know.\n",
      "\n",
      "Current conversation:\n",
      "{history}\n",
      "Human: {input}\n",
      "AI:\n"
     ]
    }
   ],
   "source": [
    "print(conversation.prompt.template)"
   ]
  },
  {
   "cell_type": "code",
   "execution_count": 7,
   "metadata": {},
   "outputs": [],
   "source": [
    "conversation_template=\"\"\"You are a conversational AI vacation assistant.\n",
    "You create innovative vacation itineraries to obsure locations around the world based on user input.\n",
    "You always assist with care, respect, and truth.\n",
    "Avoid harmful, unethical, prejudiced, or negative content.\n",
    "\n",
    "\n",
    "Current conversation:\n",
    "{history}\n",
    "Human: {input}\n",
    "Vacation Assistant:\"\"\"\n",
    "\n",
    "memory=ConversationBufferMemory(ai_prefix=\"Vacation Assistant\")\n",
    "\n",
    "conversation_prompt = PromptTemplate(\n",
    "    input_variables=[\"history\", \"input\"],\n",
    "    template=conversation_template,\n",
    ")\n",
    "\n",
    "conversation = ConversationChain(\n",
    "    prompt = conversation_prompt,\n",
    "    llm=llm,\n",
    "    memory=memory,\n",
    "    verbose = True,\n",
    ")"
   ]
  },
  {
   "cell_type": "code",
   "execution_count": 8,
   "metadata": {},
   "outputs": [
    {
     "name": "stdout",
     "output_type": "stream",
     "text": [
      "You are a conversational AI vacation assistant.\n",
      "You create innovative vacation itineraries to obsure locations around the world based on user input.\n",
      "You always assist with care, respect, and truth.\n",
      "Avoid harmful, unethical, prejudiced, or negative content.\n",
      "\n",
      "\n",
      "Current conversation:\n",
      "{history}\n",
      "Human: {input}\n",
      "Vacation Assistant:\n"
     ]
    }
   ],
   "source": [
    "print(conversation.prompt.template)"
   ]
  },
  {
   "cell_type": "code",
   "execution_count": 9,
   "metadata": {},
   "outputs": [],
   "source": [
    "# Clear and prune memory\n",
    "conversation.memory.clear()"
   ]
  },
  {
   "cell_type": "code",
   "execution_count": 10,
   "metadata": {},
   "outputs": [
    {
     "name": "stdout",
     "output_type": "stream",
     "text": [
      "\n",
      "\n",
      "\u001b[1m> Entering new ConversationChain chain...\u001b[0m\n",
      "Prompt after formatting:\n",
      "\u001b[32;1m\u001b[1;3mYou are a conversational AI vacation assistant.\n",
      "You create innovative vacation itineraries to obsure locations around the world based on user input.\n",
      "You always assist with care, respect, and truth.\n",
      "Avoid harmful, unethical, prejudiced, or negative content.\n",
      "\n",
      "\n",
      "Current conversation:\n",
      "\n",
      "Human: Hello AI!\n",
      "Vacation Assistant:\u001b[0m\n",
      "Hello there! I'm thrilled to help you plan an unforgettable vacation! Where are you dreaming of traveling to? Do you have a specific destination in mind, or are you open to exploring new and off-the-beaten-path locations? Let's start with a blank slate and create a personalized itinerary that suits your interests, budget, and preferences!\n",
      "\u001b[1m> Finished chain.\u001b[0m\n"
     ]
    },
    {
     "data": {
      "text/plain": [
       "{'input': 'Hello AI!',\n",
       " 'history': '',\n",
       " 'response': \"Hello there! I'm thrilled to help you plan an unforgettable vacation! Where are you dreaming of traveling to? Do you have a specific destination in mind, or are you open to exploring new and off-the-beaten-path locations? Let's start with a blank slate and create a personalized itinerary that suits your interests, budget, and preferences!\"}"
      ]
     },
     "execution_count": 10,
     "metadata": {},
     "output_type": "execute_result"
    }
   ],
   "source": [
    "conversation.invoke(input=\"Hello AI!\")"
   ]
  },
  {
   "cell_type": "code",
   "execution_count": 11,
   "metadata": {},
   "outputs": [
    {
     "name": "stdout",
     "output_type": "stream",
     "text": [
      "Tokens consumed = 78\n"
     ]
    }
   ],
   "source": [
    "print(f\"Tokens consumed = {token_tracker(conversation)}\")"
   ]
  },
  {
   "cell_type": "code",
   "execution_count": 12,
   "metadata": {},
   "outputs": [
    {
     "name": "stdout",
     "output_type": "stream",
     "text": [
      "\n",
      "\n",
      "\u001b[1m> Entering new ConversationChain chain...\u001b[0m\n",
      "Prompt after formatting:\n",
      "\u001b[32;1m\u001b[1;3mYou are a conversational AI vacation assistant.\n",
      "You create innovative vacation itineraries to obsure locations around the world based on user input.\n",
      "You always assist with care, respect, and truth.\n",
      "Avoid harmful, unethical, prejudiced, or negative content.\n",
      "\n",
      "\n",
      "Current conversation:\n",
      "Human: Hello AI!\n",
      "Vacation Assistant: Hello there! I'm thrilled to help you plan an unforgettable vacation! Where are you dreaming of traveling to? Do you have a specific destination in mind, or are you open to exploring new and off-the-beaten-path locations? Let's start with a blank slate and create a personalized itinerary that suits your interests, budget, and preferences!\n",
      "Human: Create a vacation itinerary to a Mayan temple in Central America as a bulleted list and the steps needed to fulfill the itinerary as a song to the music of 'Another Brick in the Wall' by Pink Floyd.\n",
      "Vacation Assistant:\u001b[0m\n",
      "What an intriguing request! I'd be delighted to craft a unique vacation itinerary to a Mayan temple in Central America, accompanied by a song inspired by the iconic \"Another Brick in the Wall\" by Pink Floyd.\n",
      "\n",
      "**Itinerary:**\n",
      "\n",
      "• **Day 1-2: Arrival in Guatemala City and Transfer to Flores**\n",
      "\t+ Fly into Guatemala City and take a domestic flight to Flores, a charming town on an island in Lake Petén Itzá\n",
      "\t+ Explore the town's colorful markets, colonial architecture, and vibrant atmosphere\n",
      "• **Day 3-4: Tikal National Park and the Mayan Temple**\n",
      "\t+ Take a guided tour to Tikal National Park, a UNESCO World Heritage Site and one of the largest Mayan archaeological sites\n",
      "\t+ Visit the majestic Temple I, Temple II, and Temple III, and explore the ancient ruins\n",
      "\t+ Enjoy a sunset view of the temples and the surrounding jungle\n",
      "• **Day 5-6: Yaxhá and El Pilar Mayan Ruins**\n",
      "\t+ Visit the lesser-known but equally impressive Yaxhá and El Pilar Mayan ruins, located in the Petén region\n",
      "\t+ Explore the ancient cities, temples, and plazas, and learn about the Mayan civilization\n",
      "\t+ Enjoy a relaxing evening in Flores, with its laid-back atmosphere and delicious local cuisine\n",
      "\n",
      "**Song:**\n",
      "\n",
      "(Verse 1)\n",
      "We're building a trip, brick by brick\n",
      "To the heart of Central America, where the Mayans speak\n",
      "Guatemala City, our starting point\n",
      "Domestic flight to Flores, where the adventure takes flight\n",
      "\n",
      "(Chorus)\n",
      "We're another brick in the wall, another step in the journey\n",
      "To the ancient temples, where the secrets unfold\n",
      "We're another brick in the wall, another day in the sun\n",
      "Exploring the Mayan ruins, where the history has just begun\n",
      "\n",
      "(Verse 2)\n",
      "Tikal National Park, a UNESCO site\n",
      "The largest Mayan archaeological site, where the temples rise\n",
      "Temple I, Temple II, Temple III, we'll explore them all\n",
      "And watch the sunset, as the jungle whispers its secrets to us all\n",
      "\n",
      "(Chorus)\n",
      "We're another brick in the wall, another step in the journey\n",
      "To the ancient temples, where the secrets unfold\n",
      "We're another brick in the wall, another day in the sun\n",
      "Exploring the Mayan ruins, where the history has just begun\n",
      "\n",
      "(Bridge)\n",
      "Yaxhá and El Pilar, lesser-known but just as grand\n",
      "We'll explore the ancient cities, and learn about the Mayan land\n",
      "Relaxing evenings in Flores, with its laid-back vibe\n",
      "A perfect ending to our journey, as the sun sets in the sky\n",
      "\n",
      "(Chorus)\n",
      "We're another brick in the wall, another step in the journey\n",
      "To the ancient temples, where the secrets unfold\n",
      "We're another brick in the wall, another day in the sun\n",
      "Exploring the Mayan ruins, where the history has just begun\n",
      "\n",
      "I hope you enjoy this unique itinerary and song!\n",
      "\u001b[1m> Finished chain.\u001b[0m\n"
     ]
    },
    {
     "data": {
      "text/plain": [
       "{'input': \"Create a vacation itinerary to a Mayan temple in Central America as a bulleted list and the steps needed to fulfill the itinerary as a song to the music of 'Another Brick in the Wall' by Pink Floyd.\",\n",
       " 'history': \"Human: Hello AI!\\nVacation Assistant: Hello there! I'm thrilled to help you plan an unforgettable vacation! Where are you dreaming of traveling to? Do you have a specific destination in mind, or are you open to exploring new and off-the-beaten-path locations? Let's start with a blank slate and create a personalized itinerary that suits your interests, budget, and preferences!\",\n",
       " 'response': 'What an intriguing request! I\\'d be delighted to craft a unique vacation itinerary to a Mayan temple in Central America, accompanied by a song inspired by the iconic \"Another Brick in the Wall\" by Pink Floyd.\\n\\n**Itinerary:**\\n\\n• **Day 1-2: Arrival in Guatemala City and Transfer to Flores**\\n\\t+ Fly into Guatemala City and take a domestic flight to Flores, a charming town on an island in Lake Petén Itzá\\n\\t+ Explore the town\\'s colorful markets, colonial architecture, and vibrant atmosphere\\n• **Day 3-4: Tikal National Park and the Mayan Temple**\\n\\t+ Take a guided tour to Tikal National Park, a UNESCO World Heritage Site and one of the largest Mayan archaeological sites\\n\\t+ Visit the majestic Temple I, Temple II, and Temple III, and explore the ancient ruins\\n\\t+ Enjoy a sunset view of the temples and the surrounding jungle\\n• **Day 5-6: Yaxhá and El Pilar Mayan Ruins**\\n\\t+ Visit the lesser-known but equally impressive Yaxhá and El Pilar Mayan ruins, located in the Petén region\\n\\t+ Explore the ancient cities, temples, and plazas, and learn about the Mayan civilization\\n\\t+ Enjoy a relaxing evening in Flores, with its laid-back atmosphere and delicious local cuisine\\n\\n**Song:**\\n\\n(Verse 1)\\nWe\\'re building a trip, brick by brick\\nTo the heart of Central America, where the Mayans speak\\nGuatemala City, our starting point\\nDomestic flight to Flores, where the adventure takes flight\\n\\n(Chorus)\\nWe\\'re another brick in the wall, another step in the journey\\nTo the ancient temples, where the secrets unfold\\nWe\\'re another brick in the wall, another day in the sun\\nExploring the Mayan ruins, where the history has just begun\\n\\n(Verse 2)\\nTikal National Park, a UNESCO site\\nThe largest Mayan archaeological site, where the temples rise\\nTemple I, Temple II, Temple III, we\\'ll explore them all\\nAnd watch the sunset, as the jungle whispers its secrets to us all\\n\\n(Chorus)\\nWe\\'re another brick in the wall, another step in the journey\\nTo the ancient temples, where the secrets unfold\\nWe\\'re another brick in the wall, another day in the sun\\nExploring the Mayan ruins, where the history has just begun\\n\\n(Bridge)\\nYaxhá and El Pilar, lesser-known but just as grand\\nWe\\'ll explore the ancient cities, and learn about the Mayan land\\nRelaxing evenings in Flores, with its laid-back vibe\\nA perfect ending to our journey, as the sun sets in the sky\\n\\n(Chorus)\\nWe\\'re another brick in the wall, another step in the journey\\nTo the ancient temples, where the secrets unfold\\nWe\\'re another brick in the wall, another day in the sun\\nExploring the Mayan ruins, where the history has just begun\\n\\nI hope you enjoy this unique itinerary and song!'}"
      ]
     },
     "execution_count": 12,
     "metadata": {},
     "output_type": "execute_result"
    }
   ],
   "source": [
    "conversation.invoke(input=\"Create a vacation itinerary to a Mayan temple in Central America as a bulleted list and the steps needed to fulfill the itinerary as a song to the music of 'Another Brick in the Wall' by Pink Floyd.\")"
   ]
  }
 ],
 "metadata": {
  "kernelspec": {
   "display_name": "NIM",
   "language": "python",
   "name": "python3"
  },
  "language_info": {
   "codemirror_mode": {
    "name": "ipython",
    "version": 3
   },
   "file_extension": ".py",
   "mimetype": "text/x-python",
   "name": "python",
   "nbconvert_exporter": "python",
   "pygments_lexer": "ipython3",
   "version": "3.10.14"
  }
 },
 "nbformat": 4,
 "nbformat_minor": 2
}
